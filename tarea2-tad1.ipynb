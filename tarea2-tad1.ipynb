{
 "cells": [
  {
   "cell_type": "code",
   "execution_count": 1,
   "id": "3fe70fb9",
   "metadata": {
    "collapsed": true,
    "execution": {
     "iopub.execute_input": "2023-08-10T18:37:31.729890Z",
     "iopub.status.busy": "2023-08-10T18:37:31.726511Z",
     "iopub.status.idle": "2023-08-10T18:37:32.046157Z",
     "shell.execute_reply": "2023-08-10T18:37:32.044159Z"
    },
    "jupyter": {
     "outputs_hidden": true,
     "source_hidden": true
    },
    "papermill": {
     "duration": 0.334196,
     "end_time": "2023-08-10T18:37:32.049135",
     "exception": false,
     "start_time": "2023-08-10T18:37:31.714939",
     "status": "completed"
    },
    "tags": []
   },
   "outputs": [
    {
     "data": {
      "text/html": [
       "<table class=\"dataframe\">\n",
       "<caption>A matrix: 2 × 6 of type dbl</caption>\n",
       "<thead>\n",
       "\t<tr><th></th><th scope=col>used</th><th scope=col>(Mb)</th><th scope=col>gc trigger</th><th scope=col>(Mb)</th><th scope=col>max used</th><th scope=col>(Mb)</th></tr>\n",
       "</thead>\n",
       "<tbody>\n",
       "\t<tr><th scope=row>Ncells</th><td> 960177</td><td>51.3</td><td>1950321</td><td>104.2</td><td>1249132</td><td>66.8</td></tr>\n",
       "\t<tr><th scope=row>Vcells</th><td>1703236</td><td>13.0</td><td>8388608</td><td> 64.0</td><td>2651364</td><td>20.3</td></tr>\n",
       "</tbody>\n",
       "</table>\n"
      ],
      "text/latex": [
       "A matrix: 2 × 6 of type dbl\n",
       "\\begin{tabular}{r|llllll}\n",
       "  & used & (Mb) & gc trigger & (Mb) & max used & (Mb)\\\\\n",
       "\\hline\n",
       "\tNcells &  960177 & 51.3 & 1950321 & 104.2 & 1249132 & 66.8\\\\\n",
       "\tVcells & 1703236 & 13.0 & 8388608 &  64.0 & 2651364 & 20.3\\\\\n",
       "\\end{tabular}\n"
      ],
      "text/markdown": [
       "\n",
       "A matrix: 2 × 6 of type dbl\n",
       "\n",
       "| <!--/--> | used | (Mb) | gc trigger | (Mb) | max used | (Mb) |\n",
       "|---|---|---|---|---|---|---|\n",
       "| Ncells |  960177 | 51.3 | 1950321 | 104.2 | 1249132 | 66.8 |\n",
       "| Vcells | 1703236 | 13.0 | 8388608 |  64.0 | 2651364 | 20.3 |\n",
       "\n"
      ],
      "text/plain": [
       "       used    (Mb) gc trigger (Mb)  max used (Mb)\n",
       "Ncells  960177 51.3 1950321    104.2 1249132  66.8\n",
       "Vcells 1703236 13.0 8388608     64.0 2651364  20.3"
      ]
     },
     "metadata": {},
     "output_type": "display_data"
    },
    {
     "name": "stderr",
     "output_type": "stream",
     "text": [
      "Loading required package: pacman\n",
      "\n"
     ]
    }
   ],
   "source": [
    "gc()\n",
    "rm(list=ls())\n",
    "\n",
    "if (!require(pacman)) install.packages(\"pacman\")\n",
    "library(pacman)"
   ]
  },
  {
   "cell_type": "code",
   "execution_count": 2,
   "id": "0fe218cf",
   "metadata": {
    "execution": {
     "iopub.execute_input": "2023-08-10T18:37:32.101112Z",
     "iopub.status.busy": "2023-08-10T18:37:32.067647Z",
     "iopub.status.idle": "2023-08-10T18:37:53.234806Z",
     "shell.execute_reply": "2023-08-10T18:37:53.231456Z"
    },
    "papermill": {
     "duration": 21.180884,
     "end_time": "2023-08-10T18:37:53.238370",
     "exception": false,
     "start_time": "2023-08-10T18:37:32.057486",
     "status": "completed"
    },
    "tags": []
   },
   "outputs": [
    {
     "name": "stderr",
     "output_type": "stream",
     "text": [
      "Installing package into ‘/usr/local/lib/R/site-library’\n",
      "(as ‘lib’ is unspecified)\n",
      "\n",
      "\n",
      "chilemapas installed\n",
      "\n"
     ]
    }
   ],
   "source": [
    "pacman::p_load(tidyverse,\n",
    "               readxl, \n",
    "               chilemapas,\n",
    "               sjmisc,\n",
    "               summarytools,\n",
    "               htmlTable,\n",
    "               httr,\n",
    "               texreg,\n",
    "               knitr,\n",
    "               kableExtra,\n",
    "               gridExtra,\n",
    "               stringr)"
   ]
  },
  {
   "cell_type": "markdown",
   "id": "b76e18f6",
   "metadata": {
    "_execution_state": "idle",
    "_uuid": "051d70d956493feee0c6d64651c6a088724dca2a",
    "papermill": {
     "duration": 0.008509,
     "end_time": "2023-08-10T18:37:53.255562",
     "exception": false,
     "start_time": "2023-08-10T18:37:53.247053",
     "status": "completed"
    },
    "tags": []
   },
   "source": [
    "# **Tarea 2**\n",
    "\n",
    "Profesor José Conejeros\n",
    "\n",
    "Estudiantes Mario Bravo y Enzo Loiza\n"
   ]
  },
  {
   "cell_type": "markdown",
   "id": "deb4a6d6",
   "metadata": {
    "papermill": {
     "duration": 0.008044,
     "end_time": "2023-08-10T18:37:53.271792",
     "exception": false,
     "start_time": "2023-08-10T18:37:53.263748",
     "status": "completed"
    },
    "tags": []
   },
   "source": [
    "## Ejercicio 1\n",
    "\n",
    "La infección por Hantavirus, cuya mayor expresión de gravedad es el Síndrome Cardiopulmonar (SCPH), es una zoonosis endémica de Chile causada por el virus Andes (ANDV). El ANDV es un virus de genoma ARN segmentado y con envoltura lipídica, miembro del género Orthohantavirus y la familia Hantaviridae. Este virus tiene como reservorio natural el roedor Oligoryzomys longicaudatus conocido como “ratón colilargo o cola larga”, cuyo hábitat se encuentra distribuido desde el valle de Copiapó en la III Región a Campos de Hielo Sur (50° S).\n",
    "\n",
    "El ministerio de salud le encarga a usted realizar un análisis descriptivo de la situación histórica de los casos de hantavirus y entregar recomendaciones para una mejor atención y control. Para esto usted trabajara con la tabla de datos Hantavirus_chile.xlsx que cuenta con el registro histórico de casos identificados de esta infección. A partir de esto se le pide realizar las siguientes tareas:"
   ]
  },
  {
   "cell_type": "markdown",
   "id": "1dd005bd",
   "metadata": {
    "papermill": {
     "duration": 0.008332,
     "end_time": "2023-08-10T18:37:53.289892",
     "exception": false,
     "start_time": "2023-08-10T18:37:53.281560",
     "status": "completed"
    },
    "tags": []
   },
   "source": [
    "a. Importe su tabla de datos e indique cuántas infecciones por Hantavirus se han registrado a la fecha. Explique cuál es la unidad de análisis de estos datos ¿La tabla esta compuesta por personas únicas o hay duplicados? Explique que sería un duplicado en este caso. (0.5 puntos)"
   ]
  },
  {
   "cell_type": "code",
   "execution_count": 3,
   "id": "23ef0643",
   "metadata": {
    "execution": {
     "iopub.execute_input": "2023-08-10T18:37:53.312679Z",
     "iopub.status.busy": "2023-08-10T18:37:53.309519Z",
     "iopub.status.idle": "2023-08-10T18:37:53.414075Z",
     "shell.execute_reply": "2023-08-10T18:37:53.409605Z"
    },
    "papermill": {
     "duration": 0.11966,
     "end_time": "2023-08-10T18:37:53.417786",
     "exception": false,
     "start_time": "2023-08-10T18:37:53.298126",
     "status": "completed"
    },
    "tags": []
   },
   "outputs": [],
   "source": [
    "db <- read_excel('../input/hantavirus-chile/Hantavirus_chile.xlsx')"
   ]
  },
  {
   "cell_type": "code",
   "execution_count": 4,
   "id": "3f5d4cd1",
   "metadata": {
    "execution": {
     "iopub.execute_input": "2023-08-10T18:37:53.440772Z",
     "iopub.status.busy": "2023-08-10T18:37:53.437751Z",
     "iopub.status.idle": "2023-08-10T18:37:53.495352Z",
     "shell.execute_reply": "2023-08-10T18:37:53.492073Z"
    },
    "papermill": {
     "duration": 0.074262,
     "end_time": "2023-08-10T18:37:53.500131",
     "exception": false,
     "start_time": "2023-08-10T18:37:53.425869",
     "status": "completed"
    },
    "tags": []
   },
   "outputs": [
    {
     "name": "stdout",
     "output_type": "stream",
     "text": [
      "Rows: 1,293\n",
      "Columns: 10\n",
      "$ fecha_notificacion       \u001b[3m\u001b[90m<dttm>\u001b[39m\u001b[23m 2022-01-07, 2021-12-30, 2021-12-30, 2021-12-…\n",
      "$ fecha_primeros_sintomas  \u001b[3m\u001b[90m<dttm>\u001b[39m\u001b[23m 2021-12-30, 2021-12-27, 2021-12-22, 2021-12-…\n",
      "$ sexo                     \u001b[3m\u001b[90m<chr>\u001b[39m\u001b[23m \"hombre\", \"hombre\", \"hombre\", \"hombre\", \"homb…\n",
      "$ edad_cat                 \u001b[3m\u001b[90m<chr>\u001b[39m\u001b[23m \"20-24\", \"40-44\", \"35-39\", \"25-29\", \"15-19\", …\n",
      "$ seremi_notificacion      \u001b[3m\u001b[90m<chr>\u001b[39m\u001b[23m \"SEREMI Del Nuble\", \"SEREMI Del Libertador Gr…\n",
      "$ region_residencia        \u001b[3m\u001b[90m<chr>\u001b[39m\u001b[23m \"Region del Nuble\", \"Region del Libertador Ge…\n",
      "$ comuna_residencia        \u001b[3m\u001b[90m<chr>\u001b[39m\u001b[23m \"Chillan\", \"Pichidegua\", \"Los Muermos\", \"Mulc…\n",
      "$ cie_10_diagnostico       \u001b[3m\u001b[90m<chr>\u001b[39m\u001b[23m \"B33.4\", \"B33.4\", \"B33.4\", \"B33.4\", \"B33.4\", …\n",
      "$ diagnostico              \u001b[3m\u001b[90m<chr>\u001b[39m\u001b[23m \"Síndrome pulmonar por hantavirus\", \"Síndrome…\n",
      "$ region_probable_contagio \u001b[3m\u001b[90m<chr>\u001b[39m\u001b[23m \"Región del Ñuble\", \"Región del Libertador Ge…\n"
     ]
    }
   ],
   "source": [
    "glimpse(db)"
   ]
  },
  {
   "cell_type": "markdown",
   "id": "c01fc9e9",
   "metadata": {
    "papermill": {
     "duration": 0.009117,
     "end_time": "2023-08-10T18:37:53.518539",
     "exception": false,
     "start_time": "2023-08-10T18:37:53.509422",
     "status": "completed"
    },
    "tags": []
   },
   "source": [
    "Unidad de análisis: el caso de infección por Hantavirus.\n"
   ]
  },
  {
   "cell_type": "code",
   "execution_count": 5,
   "id": "0668d6f2",
   "metadata": {
    "execution": {
     "iopub.execute_input": "2023-08-10T18:37:53.542357Z",
     "iopub.status.busy": "2023-08-10T18:37:53.539760Z",
     "iopub.status.idle": "2023-08-10T18:37:53.671027Z",
     "shell.execute_reply": "2023-08-10T18:37:53.668047Z"
    },
    "papermill": {
     "duration": 0.147119,
     "end_time": "2023-08-10T18:37:53.674941",
     "exception": false,
     "start_time": "2023-08-10T18:37:53.527822",
     "status": "completed"
    },
    "tags": []
   },
   "outputs": [
    {
     "name": "stdout",
     "output_type": "stream",
     "text": [
      "Se encontraron duplicados en la tabla."
     ]
    },
    {
     "data": {
      "text/html": [
       "<table class=\"dataframe\">\n",
       "<caption>A tibble: 1 × 10</caption>\n",
       "<thead>\n",
       "\t<tr><th scope=col>fecha_notificacion</th><th scope=col>fecha_primeros_sintomas</th><th scope=col>sexo</th><th scope=col>edad_cat</th><th scope=col>seremi_notificacion</th><th scope=col>region_residencia</th><th scope=col>comuna_residencia</th><th scope=col>cie_10_diagnostico</th><th scope=col>diagnostico</th><th scope=col>region_probable_contagio</th></tr>\n",
       "\t<tr><th scope=col>&lt;dttm&gt;</th><th scope=col>&lt;dttm&gt;</th><th scope=col>&lt;chr&gt;</th><th scope=col>&lt;chr&gt;</th><th scope=col>&lt;chr&gt;</th><th scope=col>&lt;chr&gt;</th><th scope=col>&lt;chr&gt;</th><th scope=col>&lt;chr&gt;</th><th scope=col>&lt;chr&gt;</th><th scope=col>&lt;chr&gt;</th></tr>\n",
       "</thead>\n",
       "<tbody>\n",
       "\t<tr><td>2006-09-14</td><td>2006-09-11</td><td>mujer</td><td>25-29</td><td>SEREMI De Valparaiso</td><td>Region de Valparaiso</td><td>Valparaiso</td><td>B33.4</td><td>Síndrome pulmonar por hantavirus</td><td>Región de Valparaíso</td></tr>\n",
       "</tbody>\n",
       "</table>\n"
      ],
      "text/latex": [
       "A tibble: 1 × 10\n",
       "\\begin{tabular}{llllllllll}\n",
       " fecha\\_notificacion & fecha\\_primeros\\_sintomas & sexo & edad\\_cat & seremi\\_notificacion & region\\_residencia & comuna\\_residencia & cie\\_10\\_diagnostico & diagnostico & region\\_probable\\_contagio\\\\\n",
       " <dttm> & <dttm> & <chr> & <chr> & <chr> & <chr> & <chr> & <chr> & <chr> & <chr>\\\\\n",
       "\\hline\n",
       "\t 2006-09-14 & 2006-09-11 & mujer & 25-29 & SEREMI De Valparaiso & Region de Valparaiso & Valparaiso & B33.4 & Síndrome pulmonar por hantavirus & Región de Valparaíso\\\\\n",
       "\\end{tabular}\n"
      ],
      "text/markdown": [
       "\n",
       "A tibble: 1 × 10\n",
       "\n",
       "| fecha_notificacion &lt;dttm&gt; | fecha_primeros_sintomas &lt;dttm&gt; | sexo &lt;chr&gt; | edad_cat &lt;chr&gt; | seremi_notificacion &lt;chr&gt; | region_residencia &lt;chr&gt; | comuna_residencia &lt;chr&gt; | cie_10_diagnostico &lt;chr&gt; | diagnostico &lt;chr&gt; | region_probable_contagio &lt;chr&gt; |\n",
       "|---|---|---|---|---|---|---|---|---|---|\n",
       "| 2006-09-14 | 2006-09-11 | mujer | 25-29 | SEREMI De Valparaiso | Region de Valparaiso | Valparaiso | B33.4 | Síndrome pulmonar por hantavirus | Región de Valparaíso |\n",
       "\n"
      ],
      "text/plain": [
       "  fecha_notificacion fecha_primeros_sintomas sexo  edad_cat\n",
       "1 2006-09-14         2006-09-11              mujer 25-29   \n",
       "  seremi_notificacion  region_residencia    comuna_residencia\n",
       "1 SEREMI De Valparaiso Region de Valparaiso Valparaiso       \n",
       "  cie_10_diagnostico diagnostico                      region_probable_contagio\n",
       "1 B33.4              Síndrome pulmonar por hantavirus Región de Valparaíso    "
      ]
     },
     "metadata": {},
     "output_type": "display_data"
    }
   ],
   "source": [
    "unicos <- c('fecha_notificacion',\n",
    "            'fecha_primeros_sintomas',\n",
    "            'sexo',\n",
    "            'edad_cat',\n",
    "            'seremi_notificacion',\n",
    "            'region_residencia',\n",
    "            'comuna_residencia',\n",
    "            'cie_10_diagnostico',\n",
    "            'diagnostico',\n",
    "            'region_probable_contagio')\n",
    "\n",
    "duplicados <- db[duplicated(db[, unicos]), ]\n",
    "\n",
    "if (nrow(duplicados) == 0) {\n",
    "  cat(\"No se encontraron duplicados en la tabla.\")\n",
    "} else {\n",
    "  cat(\"Se encontraron duplicados en la tabla.\")\n",
    "  duplicados\n",
    "}"
   ]
  },
  {
   "cell_type": "markdown",
   "id": "e9cc46af",
   "metadata": {
    "papermill": {
     "duration": 0.008683,
     "end_time": "2023-08-10T18:37:53.692445",
     "exception": false,
     "start_time": "2023-08-10T18:37:53.683762",
     "status": "completed"
    },
    "tags": []
   },
   "source": [
    "La tabla no tiene información personal, por lo que es posible que aparezca una persona que se enfermó dos veces.\n",
    "\n",
    "Un duplicado sería a mi parecer, un caso reportado dos veces."
   ]
  },
  {
   "cell_type": "markdown",
   "id": "b3410849",
   "metadata": {
    "papermill": {
     "duration": 0.009033,
     "end_time": "2023-08-10T18:37:53.710705",
     "exception": false,
     "start_time": "2023-08-10T18:37:53.701672",
     "status": "completed"
    },
    "tags": []
   },
   "source": [
    "b. Construya dos tablas con los porcentajes de 1) infecciones de hantavirus por año desagregado por sexo y 2) infecciones de hantavirus por año desagregado por grupo etarios. ¿Qué le podría comentar al Ministerio de Salud respecto a sus resultados?"
   ]
  },
  {
   "cell_type": "code",
   "execution_count": 6,
   "id": "70e02439",
   "metadata": {
    "execution": {
     "iopub.execute_input": "2023-08-10T18:37:53.734275Z",
     "iopub.status.busy": "2023-08-10T18:37:53.731644Z",
     "iopub.status.idle": "2023-08-10T18:37:54.015522Z",
     "shell.execute_reply": "2023-08-10T18:37:54.012392Z"
    },
    "papermill": {
     "duration": 0.299861,
     "end_time": "2023-08-10T18:37:54.019434",
     "exception": false,
     "start_time": "2023-08-10T18:37:53.719573",
     "status": "completed"
    },
    "tags": []
   },
   "outputs": [
    {
     "name": "stderr",
     "output_type": "stream",
     "text": [
      "\u001b[1m\u001b[22m`summarise()` has grouped output by 'year'. You can override using the\n",
      "`.groups` argument.\n"
     ]
    },
    {
     "data": {
      "text/html": [
       "<table class=\"dataframe\">\n",
       "<caption>A tibble: 53 × 4</caption>\n",
       "<thead>\n",
       "\t<tr><th scope=col>año</th><th scope=col>sexo</th><th scope=col>N</th><th scope=col>porcentaje</th></tr>\n",
       "\t<tr><th scope=col>&lt;dbl&gt;</th><th scope=col>&lt;chr&gt;</th><th scope=col>&lt;int&gt;</th><th scope=col>&lt;dbl&gt;</th></tr>\n",
       "</thead>\n",
       "<tbody>\n",
       "\t<tr><td>1995</td><td>mujer </td><td> 1</td><td>100.00000</td></tr>\n",
       "\t<tr><td>1996</td><td>hombre</td><td> 3</td><td>100.00000</td></tr>\n",
       "\t<tr><td>1997</td><td>hombre</td><td>21</td><td> 77.77778</td></tr>\n",
       "\t<tr><td>1997</td><td>mujer </td><td> 6</td><td> 22.22222</td></tr>\n",
       "\t<tr><td>1998</td><td>hombre</td><td>28</td><td> 73.68421</td></tr>\n",
       "\t<tr><td>1998</td><td>mujer </td><td>10</td><td> 26.31579</td></tr>\n",
       "\t<tr><td>1999</td><td>hombre</td><td>18</td><td> 72.00000</td></tr>\n",
       "\t<tr><td>1999</td><td>mujer </td><td> 7</td><td> 28.00000</td></tr>\n",
       "\t<tr><td>2000</td><td>hombre</td><td>23</td><td> 82.14286</td></tr>\n",
       "\t<tr><td>2000</td><td>mujer </td><td> 5</td><td> 17.85714</td></tr>\n",
       "\t<tr><td>2001</td><td>hombre</td><td>53</td><td> 66.25000</td></tr>\n",
       "\t<tr><td>2001</td><td>mujer </td><td>27</td><td> 33.75000</td></tr>\n",
       "\t<tr><td>2002</td><td>hombre</td><td>47</td><td> 70.14925</td></tr>\n",
       "\t<tr><td>2002</td><td>mujer </td><td>20</td><td> 29.85075</td></tr>\n",
       "\t<tr><td>2003</td><td>hombre</td><td>43</td><td> 72.88136</td></tr>\n",
       "\t<tr><td>2003</td><td>mujer </td><td>16</td><td> 27.11864</td></tr>\n",
       "\t<tr><td>2004</td><td>hombre</td><td>42</td><td> 73.68421</td></tr>\n",
       "\t<tr><td>2004</td><td>mujer </td><td>15</td><td> 26.31579</td></tr>\n",
       "\t<tr><td>2005</td><td>hombre</td><td>49</td><td> 69.01408</td></tr>\n",
       "\t<tr><td>2005</td><td>mujer </td><td>22</td><td> 30.98592</td></tr>\n",
       "\t<tr><td>2006</td><td>hombre</td><td>33</td><td> 73.33333</td></tr>\n",
       "\t<tr><td>2006</td><td>mujer </td><td>12</td><td> 26.66667</td></tr>\n",
       "\t<tr><td>2007</td><td>hombre</td><td>32</td><td> 69.56522</td></tr>\n",
       "\t<tr><td>2007</td><td>mujer </td><td>14</td><td> 30.43478</td></tr>\n",
       "\t<tr><td>2008</td><td>hombre</td><td>31</td><td> 70.45455</td></tr>\n",
       "\t<tr><td>2008</td><td>mujer </td><td>13</td><td> 29.54545</td></tr>\n",
       "\t<tr><td>2009</td><td>hombre</td><td>23</td><td> 65.71429</td></tr>\n",
       "\t<tr><td>2009</td><td>mujer </td><td>12</td><td> 34.28571</td></tr>\n",
       "\t<tr><td>2010</td><td>hombre</td><td>45</td><td> 73.77049</td></tr>\n",
       "\t<tr><td>2010</td><td>mujer </td><td>16</td><td> 26.22951</td></tr>\n",
       "\t<tr><td>2011</td><td>hombre</td><td>43</td><td> 69.35484</td></tr>\n",
       "\t<tr><td>2011</td><td>mujer </td><td>19</td><td> 30.64516</td></tr>\n",
       "\t<tr><td>2012</td><td>hombre</td><td>46</td><td> 79.31034</td></tr>\n",
       "\t<tr><td>2012</td><td>mujer </td><td>12</td><td> 20.68966</td></tr>\n",
       "\t<tr><td>2013</td><td>hombre</td><td>40</td><td> 71.42857</td></tr>\n",
       "\t<tr><td>2013</td><td>mujer </td><td>16</td><td> 28.57143</td></tr>\n",
       "\t<tr><td>2014</td><td>hombre</td><td>43</td><td> 72.88136</td></tr>\n",
       "\t<tr><td>2014</td><td>mujer </td><td>16</td><td> 27.11864</td></tr>\n",
       "\t<tr><td>2015</td><td>hombre</td><td>45</td><td> 78.94737</td></tr>\n",
       "\t<tr><td>2015</td><td>mujer </td><td>12</td><td> 21.05263</td></tr>\n",
       "\t<tr><td>2016</td><td>hombre</td><td>35</td><td> 67.30769</td></tr>\n",
       "\t<tr><td>2016</td><td>mujer </td><td>17</td><td> 32.69231</td></tr>\n",
       "\t<tr><td>2017</td><td>hombre</td><td>61</td><td> 66.30435</td></tr>\n",
       "\t<tr><td>2017</td><td>mujer </td><td>31</td><td> 33.69565</td></tr>\n",
       "\t<tr><td>2018</td><td>hombre</td><td>27</td><td> 81.81818</td></tr>\n",
       "\t<tr><td>2018</td><td>mujer </td><td> 6</td><td> 18.18182</td></tr>\n",
       "\t<tr><td>2019</td><td>hombre</td><td>45</td><td> 65.21739</td></tr>\n",
       "\t<tr><td>2019</td><td>mujer </td><td>24</td><td> 34.78261</td></tr>\n",
       "\t<tr><td>2020</td><td>hombre</td><td>21</td><td> 67.74194</td></tr>\n",
       "\t<tr><td>2020</td><td>mujer </td><td>10</td><td> 32.25806</td></tr>\n",
       "\t<tr><td>2021</td><td>hombre</td><td>28</td><td> 77.77778</td></tr>\n",
       "\t<tr><td>2021</td><td>mujer </td><td> 8</td><td> 22.22222</td></tr>\n",
       "\t<tr><td>2022</td><td>hombre</td><td> 1</td><td>100.00000</td></tr>\n",
       "</tbody>\n",
       "</table>\n"
      ],
      "text/latex": [
       "A tibble: 53 × 4\n",
       "\\begin{tabular}{llll}\n",
       " año & sexo & N & porcentaje\\\\\n",
       " <dbl> & <chr> & <int> & <dbl>\\\\\n",
       "\\hline\n",
       "\t 1995 & mujer  &  1 & 100.00000\\\\\n",
       "\t 1996 & hombre &  3 & 100.00000\\\\\n",
       "\t 1997 & hombre & 21 &  77.77778\\\\\n",
       "\t 1997 & mujer  &  6 &  22.22222\\\\\n",
       "\t 1998 & hombre & 28 &  73.68421\\\\\n",
       "\t 1998 & mujer  & 10 &  26.31579\\\\\n",
       "\t 1999 & hombre & 18 &  72.00000\\\\\n",
       "\t 1999 & mujer  &  7 &  28.00000\\\\\n",
       "\t 2000 & hombre & 23 &  82.14286\\\\\n",
       "\t 2000 & mujer  &  5 &  17.85714\\\\\n",
       "\t 2001 & hombre & 53 &  66.25000\\\\\n",
       "\t 2001 & mujer  & 27 &  33.75000\\\\\n",
       "\t 2002 & hombre & 47 &  70.14925\\\\\n",
       "\t 2002 & mujer  & 20 &  29.85075\\\\\n",
       "\t 2003 & hombre & 43 &  72.88136\\\\\n",
       "\t 2003 & mujer  & 16 &  27.11864\\\\\n",
       "\t 2004 & hombre & 42 &  73.68421\\\\\n",
       "\t 2004 & mujer  & 15 &  26.31579\\\\\n",
       "\t 2005 & hombre & 49 &  69.01408\\\\\n",
       "\t 2005 & mujer  & 22 &  30.98592\\\\\n",
       "\t 2006 & hombre & 33 &  73.33333\\\\\n",
       "\t 2006 & mujer  & 12 &  26.66667\\\\\n",
       "\t 2007 & hombre & 32 &  69.56522\\\\\n",
       "\t 2007 & mujer  & 14 &  30.43478\\\\\n",
       "\t 2008 & hombre & 31 &  70.45455\\\\\n",
       "\t 2008 & mujer  & 13 &  29.54545\\\\\n",
       "\t 2009 & hombre & 23 &  65.71429\\\\\n",
       "\t 2009 & mujer  & 12 &  34.28571\\\\\n",
       "\t 2010 & hombre & 45 &  73.77049\\\\\n",
       "\t 2010 & mujer  & 16 &  26.22951\\\\\n",
       "\t 2011 & hombre & 43 &  69.35484\\\\\n",
       "\t 2011 & mujer  & 19 &  30.64516\\\\\n",
       "\t 2012 & hombre & 46 &  79.31034\\\\\n",
       "\t 2012 & mujer  & 12 &  20.68966\\\\\n",
       "\t 2013 & hombre & 40 &  71.42857\\\\\n",
       "\t 2013 & mujer  & 16 &  28.57143\\\\\n",
       "\t 2014 & hombre & 43 &  72.88136\\\\\n",
       "\t 2014 & mujer  & 16 &  27.11864\\\\\n",
       "\t 2015 & hombre & 45 &  78.94737\\\\\n",
       "\t 2015 & mujer  & 12 &  21.05263\\\\\n",
       "\t 2016 & hombre & 35 &  67.30769\\\\\n",
       "\t 2016 & mujer  & 17 &  32.69231\\\\\n",
       "\t 2017 & hombre & 61 &  66.30435\\\\\n",
       "\t 2017 & mujer  & 31 &  33.69565\\\\\n",
       "\t 2018 & hombre & 27 &  81.81818\\\\\n",
       "\t 2018 & mujer  &  6 &  18.18182\\\\\n",
       "\t 2019 & hombre & 45 &  65.21739\\\\\n",
       "\t 2019 & mujer  & 24 &  34.78261\\\\\n",
       "\t 2020 & hombre & 21 &  67.74194\\\\\n",
       "\t 2020 & mujer  & 10 &  32.25806\\\\\n",
       "\t 2021 & hombre & 28 &  77.77778\\\\\n",
       "\t 2021 & mujer  &  8 &  22.22222\\\\\n",
       "\t 2022 & hombre &  1 & 100.00000\\\\\n",
       "\\end{tabular}\n"
      ],
      "text/markdown": [
       "\n",
       "A tibble: 53 × 4\n",
       "\n",
       "| año &lt;dbl&gt; | sexo &lt;chr&gt; | N &lt;int&gt; | porcentaje &lt;dbl&gt; |\n",
       "|---|---|---|---|\n",
       "| 1995 | mujer  |  1 | 100.00000 |\n",
       "| 1996 | hombre |  3 | 100.00000 |\n",
       "| 1997 | hombre | 21 |  77.77778 |\n",
       "| 1997 | mujer  |  6 |  22.22222 |\n",
       "| 1998 | hombre | 28 |  73.68421 |\n",
       "| 1998 | mujer  | 10 |  26.31579 |\n",
       "| 1999 | hombre | 18 |  72.00000 |\n",
       "| 1999 | mujer  |  7 |  28.00000 |\n",
       "| 2000 | hombre | 23 |  82.14286 |\n",
       "| 2000 | mujer  |  5 |  17.85714 |\n",
       "| 2001 | hombre | 53 |  66.25000 |\n",
       "| 2001 | mujer  | 27 |  33.75000 |\n",
       "| 2002 | hombre | 47 |  70.14925 |\n",
       "| 2002 | mujer  | 20 |  29.85075 |\n",
       "| 2003 | hombre | 43 |  72.88136 |\n",
       "| 2003 | mujer  | 16 |  27.11864 |\n",
       "| 2004 | hombre | 42 |  73.68421 |\n",
       "| 2004 | mujer  | 15 |  26.31579 |\n",
       "| 2005 | hombre | 49 |  69.01408 |\n",
       "| 2005 | mujer  | 22 |  30.98592 |\n",
       "| 2006 | hombre | 33 |  73.33333 |\n",
       "| 2006 | mujer  | 12 |  26.66667 |\n",
       "| 2007 | hombre | 32 |  69.56522 |\n",
       "| 2007 | mujer  | 14 |  30.43478 |\n",
       "| 2008 | hombre | 31 |  70.45455 |\n",
       "| 2008 | mujer  | 13 |  29.54545 |\n",
       "| 2009 | hombre | 23 |  65.71429 |\n",
       "| 2009 | mujer  | 12 |  34.28571 |\n",
       "| 2010 | hombre | 45 |  73.77049 |\n",
       "| 2010 | mujer  | 16 |  26.22951 |\n",
       "| 2011 | hombre | 43 |  69.35484 |\n",
       "| 2011 | mujer  | 19 |  30.64516 |\n",
       "| 2012 | hombre | 46 |  79.31034 |\n",
       "| 2012 | mujer  | 12 |  20.68966 |\n",
       "| 2013 | hombre | 40 |  71.42857 |\n",
       "| 2013 | mujer  | 16 |  28.57143 |\n",
       "| 2014 | hombre | 43 |  72.88136 |\n",
       "| 2014 | mujer  | 16 |  27.11864 |\n",
       "| 2015 | hombre | 45 |  78.94737 |\n",
       "| 2015 | mujer  | 12 |  21.05263 |\n",
       "| 2016 | hombre | 35 |  67.30769 |\n",
       "| 2016 | mujer  | 17 |  32.69231 |\n",
       "| 2017 | hombre | 61 |  66.30435 |\n",
       "| 2017 | mujer  | 31 |  33.69565 |\n",
       "| 2018 | hombre | 27 |  81.81818 |\n",
       "| 2018 | mujer  |  6 |  18.18182 |\n",
       "| 2019 | hombre | 45 |  65.21739 |\n",
       "| 2019 | mujer  | 24 |  34.78261 |\n",
       "| 2020 | hombre | 21 |  67.74194 |\n",
       "| 2020 | mujer  | 10 |  32.25806 |\n",
       "| 2021 | hombre | 28 |  77.77778 |\n",
       "| 2021 | mujer  |  8 |  22.22222 |\n",
       "| 2022 | hombre |  1 | 100.00000 |\n",
       "\n"
      ],
      "text/plain": [
       "   año  sexo   N  porcentaje\n",
       "1  1995 mujer   1 100.00000 \n",
       "2  1996 hombre  3 100.00000 \n",
       "3  1997 hombre 21  77.77778 \n",
       "4  1997 mujer   6  22.22222 \n",
       "5  1998 hombre 28  73.68421 \n",
       "6  1998 mujer  10  26.31579 \n",
       "7  1999 hombre 18  72.00000 \n",
       "8  1999 mujer   7  28.00000 \n",
       "9  2000 hombre 23  82.14286 \n",
       "10 2000 mujer   5  17.85714 \n",
       "11 2001 hombre 53  66.25000 \n",
       "12 2001 mujer  27  33.75000 \n",
       "13 2002 hombre 47  70.14925 \n",
       "14 2002 mujer  20  29.85075 \n",
       "15 2003 hombre 43  72.88136 \n",
       "16 2003 mujer  16  27.11864 \n",
       "17 2004 hombre 42  73.68421 \n",
       "18 2004 mujer  15  26.31579 \n",
       "19 2005 hombre 49  69.01408 \n",
       "20 2005 mujer  22  30.98592 \n",
       "21 2006 hombre 33  73.33333 \n",
       "22 2006 mujer  12  26.66667 \n",
       "23 2007 hombre 32  69.56522 \n",
       "24 2007 mujer  14  30.43478 \n",
       "25 2008 hombre 31  70.45455 \n",
       "26 2008 mujer  13  29.54545 \n",
       "27 2009 hombre 23  65.71429 \n",
       "28 2009 mujer  12  34.28571 \n",
       "29 2010 hombre 45  73.77049 \n",
       "30 2010 mujer  16  26.22951 \n",
       "31 2011 hombre 43  69.35484 \n",
       "32 2011 mujer  19  30.64516 \n",
       "33 2012 hombre 46  79.31034 \n",
       "34 2012 mujer  12  20.68966 \n",
       "35 2013 hombre 40  71.42857 \n",
       "36 2013 mujer  16  28.57143 \n",
       "37 2014 hombre 43  72.88136 \n",
       "38 2014 mujer  16  27.11864 \n",
       "39 2015 hombre 45  78.94737 \n",
       "40 2015 mujer  12  21.05263 \n",
       "41 2016 hombre 35  67.30769 \n",
       "42 2016 mujer  17  32.69231 \n",
       "43 2017 hombre 61  66.30435 \n",
       "44 2017 mujer  31  33.69565 \n",
       "45 2018 hombre 27  81.81818 \n",
       "46 2018 mujer   6  18.18182 \n",
       "47 2019 hombre 45  65.21739 \n",
       "48 2019 mujer  24  34.78261 \n",
       "49 2020 hombre 21  67.74194 \n",
       "50 2020 mujer  10  32.25806 \n",
       "51 2021 hombre 28  77.77778 \n",
       "52 2021 mujer   8  22.22222 \n",
       "53 2022 hombre  1 100.00000 "
      ]
     },
     "metadata": {},
     "output_type": "display_data"
    }
   ],
   "source": [
    "#creamos una columna con el año\n",
    "db$year <- lubridate::year(db$fecha_notificacion)\n",
    "\n",
    "resumen1 <- db %>%\n",
    "    group_by(year, sexo) %>%\n",
    "    summarize(N = n()) %>%\n",
    "    ungroup() %>%\n",
    "    group_by(year) %>%\n",
    "    mutate(porcentaje = N / sum(N) * 100) %>%\n",
    "    ungroup()\n",
    "colnames(resumen1) <- c(\"año\", \"sexo\", \"N\", \"porcentaje\")\n",
    "resumen1"
   ]
  },
  {
   "cell_type": "code",
   "execution_count": 7,
   "id": "0711542b",
   "metadata": {
    "execution": {
     "iopub.execute_input": "2023-08-10T18:37:54.042511Z",
     "iopub.status.busy": "2023-08-10T18:37:54.040645Z",
     "iopub.status.idle": "2023-08-10T18:37:54.232064Z",
     "shell.execute_reply": "2023-08-10T18:37:54.229071Z"
    },
    "papermill": {
     "duration": 0.206739,
     "end_time": "2023-08-10T18:37:54.235704",
     "exception": false,
     "start_time": "2023-08-10T18:37:54.028965",
     "status": "completed"
    },
    "tags": []
   },
   "outputs": [
    {
     "name": "stderr",
     "output_type": "stream",
     "text": [
      "\u001b[1m\u001b[22m`summarise()` has grouped output by 'year'. You can override using the\n",
      "`.groups` argument.\n"
     ]
    },
    {
     "data": {
      "text/html": [
       "<table class=\"dataframe\">\n",
       "<caption>A tibble: 333 × 4</caption>\n",
       "<thead>\n",
       "\t<tr><th scope=col>año</th><th scope=col>sexo</th><th scope=col>N</th><th scope=col>porcentaje</th></tr>\n",
       "\t<tr><th scope=col>&lt;dbl&gt;</th><th scope=col>&lt;chr&gt;</th><th scope=col>&lt;int&gt;</th><th scope=col>&lt;dbl&gt;</th></tr>\n",
       "</thead>\n",
       "<tbody>\n",
       "\t<tr><td>1995</td><td>20-24</td><td>1</td><td>100.000000</td></tr>\n",
       "\t<tr><td>1996</td><td>20-24</td><td>1</td><td> 33.333333</td></tr>\n",
       "\t<tr><td>1996</td><td>25-29</td><td>1</td><td> 33.333333</td></tr>\n",
       "\t<tr><td>1996</td><td>30-34</td><td>1</td><td> 33.333333</td></tr>\n",
       "\t<tr><td>1997</td><td>0-4  </td><td>1</td><td>  3.703704</td></tr>\n",
       "\t<tr><td>1997</td><td>10-14</td><td>3</td><td> 11.111111</td></tr>\n",
       "\t<tr><td>1997</td><td>15-19</td><td>1</td><td>  3.703704</td></tr>\n",
       "\t<tr><td>1997</td><td>20-24</td><td>2</td><td>  7.407407</td></tr>\n",
       "\t<tr><td>1997</td><td>25-29</td><td>2</td><td>  7.407407</td></tr>\n",
       "\t<tr><td>1997</td><td>30-34</td><td>5</td><td> 18.518519</td></tr>\n",
       "\t<tr><td>1997</td><td>35-39</td><td>6</td><td> 22.222222</td></tr>\n",
       "\t<tr><td>1997</td><td>40-44</td><td>3</td><td> 11.111111</td></tr>\n",
       "\t<tr><td>1997</td><td>5-9  </td><td>1</td><td>  3.703704</td></tr>\n",
       "\t<tr><td>1997</td><td>50-54</td><td>1</td><td>  3.703704</td></tr>\n",
       "\t<tr><td>1997</td><td>55-59</td><td>1</td><td>  3.703704</td></tr>\n",
       "\t<tr><td>1997</td><td>60-64</td><td>1</td><td>  3.703704</td></tr>\n",
       "\t<tr><td>1998</td><td>0-4  </td><td>2</td><td>  5.263158</td></tr>\n",
       "\t<tr><td>1998</td><td>10-14</td><td>1</td><td>  2.631579</td></tr>\n",
       "\t<tr><td>1998</td><td>15-19</td><td>3</td><td>  7.894737</td></tr>\n",
       "\t<tr><td>1998</td><td>20-24</td><td>7</td><td> 18.421053</td></tr>\n",
       "\t<tr><td>1998</td><td>25-29</td><td>6</td><td> 15.789474</td></tr>\n",
       "\t<tr><td>1998</td><td>30-34</td><td>6</td><td> 15.789474</td></tr>\n",
       "\t<tr><td>1998</td><td>35-39</td><td>5</td><td> 13.157895</td></tr>\n",
       "\t<tr><td>1998</td><td>40-44</td><td>2</td><td>  5.263158</td></tr>\n",
       "\t<tr><td>1998</td><td>45-49</td><td>1</td><td>  2.631579</td></tr>\n",
       "\t<tr><td>1998</td><td>5-9  </td><td>3</td><td>  7.894737</td></tr>\n",
       "\t<tr><td>1998</td><td>55-59</td><td>1</td><td>  2.631579</td></tr>\n",
       "\t<tr><td>1998</td><td>75-79</td><td>1</td><td>  2.631579</td></tr>\n",
       "\t<tr><td>1999</td><td>10-14</td><td>2</td><td>  8.000000</td></tr>\n",
       "\t<tr><td>1999</td><td>15-19</td><td>4</td><td> 16.000000</td></tr>\n",
       "\t<tr><td>⋮</td><td>⋮</td><td>⋮</td><td>⋮</td></tr>\n",
       "\t<tr><td>2019</td><td>50-54</td><td>4</td><td>  5.797101</td></tr>\n",
       "\t<tr><td>2019</td><td>55-59</td><td>8</td><td> 11.594203</td></tr>\n",
       "\t<tr><td>2019</td><td>60-64</td><td>2</td><td>  2.898551</td></tr>\n",
       "\t<tr><td>2020</td><td>0-4  </td><td>1</td><td>  3.225806</td></tr>\n",
       "\t<tr><td>2020</td><td>10-14</td><td>1</td><td>  3.225806</td></tr>\n",
       "\t<tr><td>2020</td><td>15-19</td><td>1</td><td>  3.225806</td></tr>\n",
       "\t<tr><td>2020</td><td>20-24</td><td>3</td><td>  9.677419</td></tr>\n",
       "\t<tr><td>2020</td><td>25-29</td><td>3</td><td>  9.677419</td></tr>\n",
       "\t<tr><td>2020</td><td>30-34</td><td>3</td><td>  9.677419</td></tr>\n",
       "\t<tr><td>2020</td><td>35-39</td><td>4</td><td> 12.903226</td></tr>\n",
       "\t<tr><td>2020</td><td>40-44</td><td>3</td><td>  9.677419</td></tr>\n",
       "\t<tr><td>2020</td><td>45-49</td><td>1</td><td>  3.225806</td></tr>\n",
       "\t<tr><td>2020</td><td>50-54</td><td>2</td><td>  6.451613</td></tr>\n",
       "\t<tr><td>2020</td><td>55-59</td><td>4</td><td> 12.903226</td></tr>\n",
       "\t<tr><td>2020</td><td>60-64</td><td>1</td><td>  3.225806</td></tr>\n",
       "\t<tr><td>2020</td><td>65-69</td><td>3</td><td>  9.677419</td></tr>\n",
       "\t<tr><td>2020</td><td>70-74</td><td>1</td><td>  3.225806</td></tr>\n",
       "\t<tr><td>2021</td><td>10-14</td><td>3</td><td>  8.333333</td></tr>\n",
       "\t<tr><td>2021</td><td>15-19</td><td>3</td><td>  8.333333</td></tr>\n",
       "\t<tr><td>2021</td><td>20-24</td><td>4</td><td> 11.111111</td></tr>\n",
       "\t<tr><td>2021</td><td>25-29</td><td>4</td><td> 11.111111</td></tr>\n",
       "\t<tr><td>2021</td><td>30-34</td><td>3</td><td>  8.333333</td></tr>\n",
       "\t<tr><td>2021</td><td>35-39</td><td>8</td><td> 22.222222</td></tr>\n",
       "\t<tr><td>2021</td><td>40-44</td><td>3</td><td>  8.333333</td></tr>\n",
       "\t<tr><td>2021</td><td>45-49</td><td>4</td><td> 11.111111</td></tr>\n",
       "\t<tr><td>2021</td><td>50-54</td><td>1</td><td>  2.777778</td></tr>\n",
       "\t<tr><td>2021</td><td>55-59</td><td>1</td><td>  2.777778</td></tr>\n",
       "\t<tr><td>2021</td><td>60-64</td><td>1</td><td>  2.777778</td></tr>\n",
       "\t<tr><td>2021</td><td>75-79</td><td>1</td><td>  2.777778</td></tr>\n",
       "\t<tr><td>2022</td><td>20-24</td><td>1</td><td>100.000000</td></tr>\n",
       "</tbody>\n",
       "</table>\n"
      ],
      "text/latex": [
       "A tibble: 333 × 4\n",
       "\\begin{tabular}{llll}\n",
       " año & sexo & N & porcentaje\\\\\n",
       " <dbl> & <chr> & <int> & <dbl>\\\\\n",
       "\\hline\n",
       "\t 1995 & 20-24 & 1 & 100.000000\\\\\n",
       "\t 1996 & 20-24 & 1 &  33.333333\\\\\n",
       "\t 1996 & 25-29 & 1 &  33.333333\\\\\n",
       "\t 1996 & 30-34 & 1 &  33.333333\\\\\n",
       "\t 1997 & 0-4   & 1 &   3.703704\\\\\n",
       "\t 1997 & 10-14 & 3 &  11.111111\\\\\n",
       "\t 1997 & 15-19 & 1 &   3.703704\\\\\n",
       "\t 1997 & 20-24 & 2 &   7.407407\\\\\n",
       "\t 1997 & 25-29 & 2 &   7.407407\\\\\n",
       "\t 1997 & 30-34 & 5 &  18.518519\\\\\n",
       "\t 1997 & 35-39 & 6 &  22.222222\\\\\n",
       "\t 1997 & 40-44 & 3 &  11.111111\\\\\n",
       "\t 1997 & 5-9   & 1 &   3.703704\\\\\n",
       "\t 1997 & 50-54 & 1 &   3.703704\\\\\n",
       "\t 1997 & 55-59 & 1 &   3.703704\\\\\n",
       "\t 1997 & 60-64 & 1 &   3.703704\\\\\n",
       "\t 1998 & 0-4   & 2 &   5.263158\\\\\n",
       "\t 1998 & 10-14 & 1 &   2.631579\\\\\n",
       "\t 1998 & 15-19 & 3 &   7.894737\\\\\n",
       "\t 1998 & 20-24 & 7 &  18.421053\\\\\n",
       "\t 1998 & 25-29 & 6 &  15.789474\\\\\n",
       "\t 1998 & 30-34 & 6 &  15.789474\\\\\n",
       "\t 1998 & 35-39 & 5 &  13.157895\\\\\n",
       "\t 1998 & 40-44 & 2 &   5.263158\\\\\n",
       "\t 1998 & 45-49 & 1 &   2.631579\\\\\n",
       "\t 1998 & 5-9   & 3 &   7.894737\\\\\n",
       "\t 1998 & 55-59 & 1 &   2.631579\\\\\n",
       "\t 1998 & 75-79 & 1 &   2.631579\\\\\n",
       "\t 1999 & 10-14 & 2 &   8.000000\\\\\n",
       "\t 1999 & 15-19 & 4 &  16.000000\\\\\n",
       "\t ⋮ & ⋮ & ⋮ & ⋮\\\\\n",
       "\t 2019 & 50-54 & 4 &   5.797101\\\\\n",
       "\t 2019 & 55-59 & 8 &  11.594203\\\\\n",
       "\t 2019 & 60-64 & 2 &   2.898551\\\\\n",
       "\t 2020 & 0-4   & 1 &   3.225806\\\\\n",
       "\t 2020 & 10-14 & 1 &   3.225806\\\\\n",
       "\t 2020 & 15-19 & 1 &   3.225806\\\\\n",
       "\t 2020 & 20-24 & 3 &   9.677419\\\\\n",
       "\t 2020 & 25-29 & 3 &   9.677419\\\\\n",
       "\t 2020 & 30-34 & 3 &   9.677419\\\\\n",
       "\t 2020 & 35-39 & 4 &  12.903226\\\\\n",
       "\t 2020 & 40-44 & 3 &   9.677419\\\\\n",
       "\t 2020 & 45-49 & 1 &   3.225806\\\\\n",
       "\t 2020 & 50-54 & 2 &   6.451613\\\\\n",
       "\t 2020 & 55-59 & 4 &  12.903226\\\\\n",
       "\t 2020 & 60-64 & 1 &   3.225806\\\\\n",
       "\t 2020 & 65-69 & 3 &   9.677419\\\\\n",
       "\t 2020 & 70-74 & 1 &   3.225806\\\\\n",
       "\t 2021 & 10-14 & 3 &   8.333333\\\\\n",
       "\t 2021 & 15-19 & 3 &   8.333333\\\\\n",
       "\t 2021 & 20-24 & 4 &  11.111111\\\\\n",
       "\t 2021 & 25-29 & 4 &  11.111111\\\\\n",
       "\t 2021 & 30-34 & 3 &   8.333333\\\\\n",
       "\t 2021 & 35-39 & 8 &  22.222222\\\\\n",
       "\t 2021 & 40-44 & 3 &   8.333333\\\\\n",
       "\t 2021 & 45-49 & 4 &  11.111111\\\\\n",
       "\t 2021 & 50-54 & 1 &   2.777778\\\\\n",
       "\t 2021 & 55-59 & 1 &   2.777778\\\\\n",
       "\t 2021 & 60-64 & 1 &   2.777778\\\\\n",
       "\t 2021 & 75-79 & 1 &   2.777778\\\\\n",
       "\t 2022 & 20-24 & 1 & 100.000000\\\\\n",
       "\\end{tabular}\n"
      ],
      "text/markdown": [
       "\n",
       "A tibble: 333 × 4\n",
       "\n",
       "| año &lt;dbl&gt; | sexo &lt;chr&gt; | N &lt;int&gt; | porcentaje &lt;dbl&gt; |\n",
       "|---|---|---|---|\n",
       "| 1995 | 20-24 | 1 | 100.000000 |\n",
       "| 1996 | 20-24 | 1 |  33.333333 |\n",
       "| 1996 | 25-29 | 1 |  33.333333 |\n",
       "| 1996 | 30-34 | 1 |  33.333333 |\n",
       "| 1997 | 0-4   | 1 |   3.703704 |\n",
       "| 1997 | 10-14 | 3 |  11.111111 |\n",
       "| 1997 | 15-19 | 1 |   3.703704 |\n",
       "| 1997 | 20-24 | 2 |   7.407407 |\n",
       "| 1997 | 25-29 | 2 |   7.407407 |\n",
       "| 1997 | 30-34 | 5 |  18.518519 |\n",
       "| 1997 | 35-39 | 6 |  22.222222 |\n",
       "| 1997 | 40-44 | 3 |  11.111111 |\n",
       "| 1997 | 5-9   | 1 |   3.703704 |\n",
       "| 1997 | 50-54 | 1 |   3.703704 |\n",
       "| 1997 | 55-59 | 1 |   3.703704 |\n",
       "| 1997 | 60-64 | 1 |   3.703704 |\n",
       "| 1998 | 0-4   | 2 |   5.263158 |\n",
       "| 1998 | 10-14 | 1 |   2.631579 |\n",
       "| 1998 | 15-19 | 3 |   7.894737 |\n",
       "| 1998 | 20-24 | 7 |  18.421053 |\n",
       "| 1998 | 25-29 | 6 |  15.789474 |\n",
       "| 1998 | 30-34 | 6 |  15.789474 |\n",
       "| 1998 | 35-39 | 5 |  13.157895 |\n",
       "| 1998 | 40-44 | 2 |   5.263158 |\n",
       "| 1998 | 45-49 | 1 |   2.631579 |\n",
       "| 1998 | 5-9   | 3 |   7.894737 |\n",
       "| 1998 | 55-59 | 1 |   2.631579 |\n",
       "| 1998 | 75-79 | 1 |   2.631579 |\n",
       "| 1999 | 10-14 | 2 |   8.000000 |\n",
       "| 1999 | 15-19 | 4 |  16.000000 |\n",
       "| ⋮ | ⋮ | ⋮ | ⋮ |\n",
       "| 2019 | 50-54 | 4 |   5.797101 |\n",
       "| 2019 | 55-59 | 8 |  11.594203 |\n",
       "| 2019 | 60-64 | 2 |   2.898551 |\n",
       "| 2020 | 0-4   | 1 |   3.225806 |\n",
       "| 2020 | 10-14 | 1 |   3.225806 |\n",
       "| 2020 | 15-19 | 1 |   3.225806 |\n",
       "| 2020 | 20-24 | 3 |   9.677419 |\n",
       "| 2020 | 25-29 | 3 |   9.677419 |\n",
       "| 2020 | 30-34 | 3 |   9.677419 |\n",
       "| 2020 | 35-39 | 4 |  12.903226 |\n",
       "| 2020 | 40-44 | 3 |   9.677419 |\n",
       "| 2020 | 45-49 | 1 |   3.225806 |\n",
       "| 2020 | 50-54 | 2 |   6.451613 |\n",
       "| 2020 | 55-59 | 4 |  12.903226 |\n",
       "| 2020 | 60-64 | 1 |   3.225806 |\n",
       "| 2020 | 65-69 | 3 |   9.677419 |\n",
       "| 2020 | 70-74 | 1 |   3.225806 |\n",
       "| 2021 | 10-14 | 3 |   8.333333 |\n",
       "| 2021 | 15-19 | 3 |   8.333333 |\n",
       "| 2021 | 20-24 | 4 |  11.111111 |\n",
       "| 2021 | 25-29 | 4 |  11.111111 |\n",
       "| 2021 | 30-34 | 3 |   8.333333 |\n",
       "| 2021 | 35-39 | 8 |  22.222222 |\n",
       "| 2021 | 40-44 | 3 |   8.333333 |\n",
       "| 2021 | 45-49 | 4 |  11.111111 |\n",
       "| 2021 | 50-54 | 1 |   2.777778 |\n",
       "| 2021 | 55-59 | 1 |   2.777778 |\n",
       "| 2021 | 60-64 | 1 |   2.777778 |\n",
       "| 2021 | 75-79 | 1 |   2.777778 |\n",
       "| 2022 | 20-24 | 1 | 100.000000 |\n",
       "\n"
      ],
      "text/plain": [
       "    año  sexo  N porcentaje\n",
       "1   1995 20-24 1 100.000000\n",
       "2   1996 20-24 1  33.333333\n",
       "3   1996 25-29 1  33.333333\n",
       "4   1996 30-34 1  33.333333\n",
       "5   1997 0-4   1   3.703704\n",
       "6   1997 10-14 3  11.111111\n",
       "7   1997 15-19 1   3.703704\n",
       "8   1997 20-24 2   7.407407\n",
       "9   1997 25-29 2   7.407407\n",
       "10  1997 30-34 5  18.518519\n",
       "11  1997 35-39 6  22.222222\n",
       "12  1997 40-44 3  11.111111\n",
       "13  1997 5-9   1   3.703704\n",
       "14  1997 50-54 1   3.703704\n",
       "15  1997 55-59 1   3.703704\n",
       "16  1997 60-64 1   3.703704\n",
       "17  1998 0-4   2   5.263158\n",
       "18  1998 10-14 1   2.631579\n",
       "19  1998 15-19 3   7.894737\n",
       "20  1998 20-24 7  18.421053\n",
       "21  1998 25-29 6  15.789474\n",
       "22  1998 30-34 6  15.789474\n",
       "23  1998 35-39 5  13.157895\n",
       "24  1998 40-44 2   5.263158\n",
       "25  1998 45-49 1   2.631579\n",
       "26  1998 5-9   3   7.894737\n",
       "27  1998 55-59 1   2.631579\n",
       "28  1998 75-79 1   2.631579\n",
       "29  1999 10-14 2   8.000000\n",
       "30  1999 15-19 4  16.000000\n",
       "⋮   ⋮    ⋮     ⋮ ⋮         \n",
       "304 2019 50-54 4   5.797101\n",
       "305 2019 55-59 8  11.594203\n",
       "306 2019 60-64 2   2.898551\n",
       "307 2020 0-4   1   3.225806\n",
       "308 2020 10-14 1   3.225806\n",
       "309 2020 15-19 1   3.225806\n",
       "310 2020 20-24 3   9.677419\n",
       "311 2020 25-29 3   9.677419\n",
       "312 2020 30-34 3   9.677419\n",
       "313 2020 35-39 4  12.903226\n",
       "314 2020 40-44 3   9.677419\n",
       "315 2020 45-49 1   3.225806\n",
       "316 2020 50-54 2   6.451613\n",
       "317 2020 55-59 4  12.903226\n",
       "318 2020 60-64 1   3.225806\n",
       "319 2020 65-69 3   9.677419\n",
       "320 2020 70-74 1   3.225806\n",
       "321 2021 10-14 3   8.333333\n",
       "322 2021 15-19 3   8.333333\n",
       "323 2021 20-24 4  11.111111\n",
       "324 2021 25-29 4  11.111111\n",
       "325 2021 30-34 3   8.333333\n",
       "326 2021 35-39 8  22.222222\n",
       "327 2021 40-44 3   8.333333\n",
       "328 2021 45-49 4  11.111111\n",
       "329 2021 50-54 1   2.777778\n",
       "330 2021 55-59 1   2.777778\n",
       "331 2021 60-64 1   2.777778\n",
       "332 2021 75-79 1   2.777778\n",
       "333 2022 20-24 1 100.000000"
      ]
     },
     "metadata": {},
     "output_type": "display_data"
    }
   ],
   "source": [
    "resumen1 <- db %>%\n",
    "    group_by(year, edad_cat) %>%\n",
    "    summarize(N = n()) %>%\n",
    "    ungroup() %>%\n",
    "    group_by(year) %>%\n",
    "    mutate(porcentaje = N / sum(N) * 100) %>%\n",
    "    ungroup()\n",
    "colnames(resumen1) <- c(\"año\", \"sexo\", \"N\", \"porcentaje\")\n",
    "resumen1"
   ]
  },
  {
   "cell_type": "markdown",
   "id": "79a77977",
   "metadata": {
    "papermill": {
     "duration": 0.009864,
     "end_time": "2023-08-10T18:37:54.255773",
     "exception": false,
     "start_time": "2023-08-10T18:37:54.245909",
     "status": "completed"
    },
    "tags": []
   },
   "source": [
    "Comentarios pendientes"
   ]
  },
  {
   "cell_type": "markdown",
   "id": "db9be6b8",
   "metadata": {
    "papermill": {
     "duration": 0.009737,
     "end_time": "2023-08-10T18:37:54.275483",
     "exception": false,
     "start_time": "2023-08-10T18:37:54.265746",
     "status": "completed"
    },
    "tags": []
   },
   "source": [
    "c. Construya una tabla con el número de casos por región (`region_residencia`) agrupando cada 5 años. Indique la región con el mayor cantidad de casos en el tiempo y realice un zoom para identificar las comunas más críticas (mayor número de casos totales) para esa región ¿Qué input relevante le podría indicar al Ministerio de Salud? ¿Dónde podríamos tener una mayor vigilancia?"
   ]
  },
  {
   "cell_type": "markdown",
   "id": "6b9bf6ff",
   "metadata": {
    "papermill": {
     "duration": 0.009827,
     "end_time": "2023-08-10T18:37:54.295214",
     "exception": false,
     "start_time": "2023-08-10T18:37:54.285387",
     "status": "completed"
    },
    "tags": []
   },
   "source": [
    "## Ejercicio 2\n",
    "En el ejercicio 1 se le pidió realizar una extracción desde la API del Banco Mundial y realizar análisis\n",
    "a partir de su extracción. En este caso, usted trabajará con la siguiente extracción de la API que\n",
    "corresponde al ingreso per cápita (GDP) para América Latina y el Caribe solo para el año 2020.\n"
   ]
  },
  {
   "cell_type": "code",
   "execution_count": 8,
   "id": "09e35650",
   "metadata": {
    "execution": {
     "iopub.execute_input": "2023-08-10T18:37:54.321680Z",
     "iopub.status.busy": "2023-08-10T18:37:54.319010Z",
     "iopub.status.idle": "2023-08-10T18:38:00.234532Z",
     "shell.execute_reply": "2023-08-10T18:38:00.231142Z"
    },
    "papermill": {
     "duration": 5.933405,
     "end_time": "2023-08-10T18:38:00.239022",
     "exception": false,
     "start_time": "2023-08-10T18:37:54.305617",
     "status": "completed"
    },
    "tags": []
   },
   "outputs": [],
   "source": [
    "library(WDI)\n",
    "gdp <- WDI(country = 'all',\n",
    "          indicator = 'NY.GDP.PCAP.PP.KD',\n",
    "          start = 2015,\n",
    "          end = 2020,\n",
    "          extra = TRUE,\n",
    "          cache = NULL,\n",
    "          latest = NULL,\n",
    "          language = 'es') %>%\n",
    "    filter(region == 'Latin America & Caribbean' & year == 2020)"
   ]
  },
  {
   "cell_type": "markdown",
   "id": "c4bc3fff",
   "metadata": {
    "papermill": {
     "duration": 0.010009,
     "end_time": "2023-08-10T18:38:00.259622",
     "exception": false,
     "start_time": "2023-08-10T18:38:00.249613",
     "status": "completed"
    },
    "tags": []
   },
   "source": [
    "Usted debería tener una tabla con las siguientes columnas:"
   ]
  },
  {
   "cell_type": "code",
   "execution_count": 9,
   "id": "86314cf4",
   "metadata": {
    "execution": {
     "iopub.execute_input": "2023-08-10T18:38:00.284322Z",
     "iopub.status.busy": "2023-08-10T18:38:00.282315Z",
     "iopub.status.idle": "2023-08-10T18:38:00.315225Z",
     "shell.execute_reply": "2023-08-10T18:38:00.312471Z"
    },
    "papermill": {
     "duration": 0.048727,
     "end_time": "2023-08-10T18:38:00.318400",
     "exception": false,
     "start_time": "2023-08-10T18:38:00.269673",
     "status": "completed"
    },
    "tags": []
   },
   "outputs": [
    {
     "name": "stdout",
     "output_type": "stream",
     "text": [
      "Rows: 22\n",
      "Columns: 13\n",
      "$ country           \u001b[3m\u001b[90m<chr>\u001b[39m\u001b[23m \"Argentina\", \"Aruba\", \"Barbados\", \"Bolivia\", \"Chile\"…\n",
      "$ iso2c             \u001b[3m\u001b[90m<chr>\u001b[39m\u001b[23m \"AR\", \"AW\", \"BB\", \"BO\", \"CL\", \"CO\", \"CR\", \"CU\", \"CW\"…\n",
      "$ iso3c             \u001b[3m\u001b[90m<chr>\u001b[39m\u001b[23m \"ARG\", \"ABW\", \"BRB\", \"BOL\", \"CHL\", \"COL\", \"CRI\", \"CU…\n",
      "$ year              \u001b[3m\u001b[90m<int>\u001b[39m\u001b[23m 2020, 2020, 2020, 2020, 2020, 2020, 2020, 2020, 2020…\n",
      "$ NY.GDP.PCAP.PP.KD \u001b[3m\u001b[90m<dbl>\u001b[39m\u001b[23m 19685.216, 33155.243, 13805.778, 7679.933, 22970.550…\n",
      "$ status            \u001b[3m\u001b[90m<chr>\u001b[39m\u001b[23m \"\", \"\", \"\", \"\", \"\", \"\", \"\", \"\", \"\", \"\", \"\", \"\", \"\", …\n",
      "$ lastupdated       \u001b[3m\u001b[90m<chr>\u001b[39m\u001b[23m \"2023-07-25\", \"2023-07-25\", \"2023-07-25\", \"2023-07-2…\n",
      "$ region            \u001b[3m\u001b[90m<chr>\u001b[39m\u001b[23m \"Latin America & Caribbean\", \"Latin America & Caribb…\n",
      "$ capital           \u001b[3m\u001b[90m<chr>\u001b[39m\u001b[23m \"Buenos Aires\", \"Oranjestad\", \"Bridgetown\", \"La Paz\"…\n",
      "$ longitude         \u001b[3m\u001b[90m<chr>\u001b[39m\u001b[23m \"-58.4173\", \"-70.0167\", \"-59.6105\", \"-66.1936\", \"-70…\n",
      "$ latitude          \u001b[3m\u001b[90m<chr>\u001b[39m\u001b[23m \"-34.6118\", \"12.5167\", \"13.0935\", \"-13.9908\", \"-33.4…\n",
      "$ income            \u001b[3m\u001b[90m<chr>\u001b[39m\u001b[23m \"Upper middle income\", \"High income\", \"High income\",…\n",
      "$ lending           \u001b[3m\u001b[90m<chr>\u001b[39m\u001b[23m \"IBRD\", \"Not classified\", \"Not classified\", \"IBRD\", …\n"
     ]
    }
   ],
   "source": [
    "glimpse(gdp)"
   ]
  },
  {
   "cell_type": "markdown",
   "id": "2c3b3e1b",
   "metadata": {
    "papermill": {
     "duration": 0.010754,
     "end_time": "2023-08-10T18:38:00.339430",
     "exception": false,
     "start_time": "2023-08-10T18:38:00.328676",
     "status": "completed"
    },
    "tags": []
   },
   "source": [
    "Además usted sabe que el promedio del GDP para los países en el 2020 es de:"
   ]
  },
  {
   "cell_type": "code",
   "execution_count": 10,
   "id": "6a31e367",
   "metadata": {
    "execution": {
     "iopub.execute_input": "2023-08-10T18:38:00.365384Z",
     "iopub.status.busy": "2023-08-10T18:38:00.363339Z",
     "iopub.status.idle": "2023-08-10T18:38:00.387857Z",
     "shell.execute_reply": "2023-08-10T18:38:00.385414Z"
    },
    "papermill": {
     "duration": 0.041355,
     "end_time": "2023-08-10T18:38:00.391564",
     "exception": false,
     "start_time": "2023-08-10T18:38:00.350209",
     "status": "completed"
    },
    "tags": []
   },
   "outputs": [
    {
     "data": {
      "text/html": [
       "16154.5099216273"
      ],
      "text/latex": [
       "16154.5099216273"
      ],
      "text/markdown": [
       "16154.5099216273"
      ],
      "text/plain": [
       "[1] 16154.51"
      ]
     },
     "metadata": {},
     "output_type": "display_data"
    }
   ],
   "source": [
    "mean(gdp$NY.GDP.PCAP.PP.KD, na.rm = TRUE)"
   ]
  },
  {
   "cell_type": "markdown",
   "id": "633147d5",
   "metadata": {
    "papermill": {
     "duration": 0.010404,
     "end_time": "2023-08-10T18:38:00.412348",
     "exception": false,
     "start_time": "2023-08-10T18:38:00.401944",
     "status": "completed"
    },
    "tags": []
   },
   "source": [
    "A continuación se realiza el siguiente flujo empaquetado en una función llamada `muestreo`:"
   ]
  },
  {
   "cell_type": "code",
   "execution_count": 11,
   "id": "517a170e",
   "metadata": {
    "execution": {
     "iopub.execute_input": "2023-08-10T18:38:00.437638Z",
     "iopub.status.busy": "2023-08-10T18:38:00.435636Z",
     "iopub.status.idle": "2023-08-10T18:38:00.455321Z",
     "shell.execute_reply": "2023-08-10T18:38:00.453020Z"
    },
    "papermill": {
     "duration": 0.035524,
     "end_time": "2023-08-10T18:38:00.458314",
     "exception": false,
     "start_time": "2023-08-10T18:38:00.422790",
     "status": "completed"
    },
    "tags": []
   },
   "outputs": [],
   "source": [
    "muestreo <- function(v, m, n, replace = TRUE){\n",
    "    library(dplyr)                                #cargar las librerias\n",
    "    library(ggplot2)\n",
    "    library(patchwork)\n",
    "    \n",
    "    vector_promedios <- c()                       \n",
    "    for (i in 1:m) {\n",
    "        muestra <- sample(x = v,\n",
    "                         size = n,\n",
    "                         replace = TRUE)\n",
    "        vector_promedios[i] <- mean(muestra, na.rm = TRUE)\n",
    "    }\n",
    "\n",
    "    promedio <- mean(vector_promedios, na.rm = TRUE)\n",
    "\n",
    "    g1 <- ggplot(data = NULL, aes(x = 1:m, y = vector_promedios)) +\n",
    "        geom_point(color = \"darkblue\") + geom_line(color = \"blue\") +\n",
    "        geom_hline(yintercept = mean(v, na.rm=TRUE), color = \"red\", lwd = 1) + #Promedio real\n",
    "        geom_hline(yintercept = promedio, color = \"green\", lwd = 1) #Gran media\n",
    "\n",
    "    g2 <- ggplot(data = NULL, aes(x = vector_promedios)) +\n",
    "        geom_histogram(bins = 100, fill=\"darkblue\") +\n",
    "        geom_vline(xintercept = mean(v, na.rm=TRUE), color = \"red\", lwd = 1) +\n",
    "        geom_vline(xintercept = promedio, color = \"green\", lwd = 1)\n",
    "\n",
    "    grafico <- g1/g2\n",
    "\n",
    "    print(paste0(\"Promedios de \", m, \" muetras de tamaño \", n, \":\"))\n",
    "    print(vector_promedios)\n",
    "    print(paste0(\"Promedio de promedios (Gran media): \", promedio))\n",
    "    print(paste0(\"Promedio 'verdadero': \", mean(v, na.rm=TRUE)))\n",
    "    print(grafico)\n",
    "}\n"
   ]
  },
  {
   "cell_type": "markdown",
   "id": "0c040cf0",
   "metadata": {
    "papermill": {
     "duration": 0.010631,
     "end_time": "2023-08-10T18:38:00.479375",
     "exception": false,
     "start_time": "2023-08-10T18:38:00.468744",
     "status": "completed"
    },
    "tags": []
   },
   "source": [
    "Utilizando la función `muestreo()` podemos obtener los siguientes resultados:"
   ]
  },
  {
   "cell_type": "code",
   "execution_count": 12,
   "id": "f9cc8947",
   "metadata": {
    "execution": {
     "iopub.execute_input": "2023-08-10T18:38:00.509108Z",
     "iopub.status.busy": "2023-08-10T18:38:00.507043Z",
     "iopub.status.idle": "2023-08-10T18:38:01.594825Z",
     "shell.execute_reply": "2023-08-10T18:38:01.592595Z"
    },
    "papermill": {
     "duration": 1.10868,
     "end_time": "2023-08-10T18:38:01.599425",
     "exception": false,
     "start_time": "2023-08-10T18:38:00.490745",
     "status": "completed"
    },
    "tags": []
   },
   "outputs": [
    {
     "name": "stdout",
     "output_type": "stream",
     "text": [
      "[1] \"Promedios de 200 muetras de tamaño 5:\"\n",
      "  [1] 16691.435 20259.481 13529.268 15002.587 16215.854 17929.886 13592.690\n",
      "  [8] 17056.667 23579.314 14333.069  9598.558 13712.556 24978.245 12121.582\n",
      " [15] 17841.382 12063.205 14158.887 11368.598 20304.396 10784.606 10839.610\n",
      " [22] 14700.222 18163.120 11656.511 30191.093 20068.323 18037.546 16893.695\n",
      " [29] 20097.029 10112.589 12222.213 12846.905 12045.515 21504.816 14075.752\n",
      " [36] 13591.880 11701.716  7883.859 21097.263 18672.942 20841.618 12594.151\n",
      " [43] 10794.435 21206.726 20773.002  9543.407 12106.635 16903.583 15273.617\n",
      " [50] 17830.095 16009.857 13584.833 21399.535 13433.591 16137.976 15348.742\n",
      " [57] 18286.068 19857.025 14510.221 20991.385 20387.514 12139.348 19749.717\n",
      " [64]  9311.910 11110.075 15561.531 15418.059 14694.962 15457.820 13157.528\n",
      " [71] 21133.049 18360.427 20144.590 21290.456 12114.751 12960.447 17883.347\n",
      " [78] 14046.725 21920.114 16149.780 10830.329 18696.035 12574.575 16047.753\n",
      " [85] 18698.023 19508.153 17055.469 21111.181 22283.335 14463.183 25608.857\n",
      " [92] 15588.131 25006.385 12027.657 23499.061 15622.762 15744.905 20479.396\n",
      " [99] 17073.026 18205.088 11116.007 13231.596 26185.474 17273.944 18260.389\n",
      "[106] 12253.289 13451.516 13677.532 17706.884 13155.225 21516.718 12746.283\n",
      "[113] 15302.752 14336.685 12050.577 14115.605 18309.764 24790.891 16083.170\n",
      "[120] 20452.141 12543.297 15931.791 17218.352 10876.103 16631.847 14040.975\n",
      "[127] 11336.752 15845.857 14901.737 14748.478 14572.204  9219.882 15657.616\n",
      "[134] 10984.268 19283.032 13514.782 18444.681 12345.856 23512.087 24246.802\n",
      "[141] 18038.782 11350.084 16787.895 11485.207  9300.121 19131.174 17226.361\n",
      "[148] 11655.771 15758.778  8392.494 13520.739 11028.120 25193.263 14948.949\n",
      "[155] 10237.517 18104.764 17406.794 16361.637 16159.136 14503.950 19355.955\n",
      "[162] 11352.012 13367.145 11468.764 21392.339 26358.184 12151.493 17170.481\n",
      "[169]  8639.718 15111.850 12870.157 12005.708 17660.758 14759.112 25633.307\n",
      "[176] 23204.102 12473.246 14302.320 17572.030 14945.908 19015.873 13611.685\n",
      "[183] 11562.132 11458.599 17966.042 24608.157 15192.730  8093.337 14352.628\n",
      "[190] 14290.585 14812.978 13910.741 17259.082 17178.802 13632.306 16660.093\n",
      "[197] 11032.475 23686.032 13545.557 24380.066\n",
      "[1] \"Promedio de promedios (Gran media): 16042.878453217\"\n",
      "[1] \"Promedio 'verdadero': 16154.5099216273\"\n"
     ]
    },
    {
     "data": {
      "image/png": "[encoded data removed]"
     },
     "metadata": {
      "image/png": {
       "height": 420,
       "width": 420
      }
     },
     "output_type": "display_data"
    }
   ],
   "source": [
    "muestreo(v=gdp$NY.GDP.PCAP.PP.KD, m=200, n=5, replace = TRUE)"
   ]
  },
  {
   "cell_type": "markdown",
   "id": "05b4d8fa",
   "metadata": {
    "papermill": {
     "duration": 0.013695,
     "end_time": "2023-08-10T18:38:01.626325",
     "exception": false,
     "start_time": "2023-08-10T18:38:01.612630",
     "status": "completed"
    },
    "tags": []
   },
   "source": [
    "A partir de la función muestreo() y el análisis detallado resuelva lo siguiente:\n",
    "\n",
    "a. Describa lo que realiza la función. ¿Cuál es el objetivo de aplicar este proceso sobre los datos? (0.5 puntos)\n",
    "\n",
    "b. Explique en qué consisten los inputs `v`, `m`, `n` y `replace = TRUE` de la función propuesta. (0.5 puntos)\n",
    "\n",
    "c. Interprete las dos figuras que se generan a partir de este flujo. (0.5 puntos)\n",
    "\n",
    "d. ¿En qué se diferencian de forma conceptual la “gran media” de la “media verdadera”? Explique e interprete el resultado obtenido. (0.5 puntos)\n"
   ]
  },
  {
   "cell_type": "markdown",
   "id": "bc5771ee",
   "metadata": {
    "papermill": {
     "duration": 0.013002,
     "end_time": "2023-08-10T18:38:01.652549",
     "exception": false,
     "start_time": "2023-08-10T18:38:01.639547",
     "status": "completed"
    },
    "tags": []
   },
   "source": [
    "## Bonus\n",
    "Utilizando la tabla de datos `Hantavirus_chile.xlsx`, genere cualquiera de los dos inputs solicitados a continuación (solo 1) y entregue una breve lectura de sus resultados. Sea breve, simple y con un lenguaje directo.\n",
    "\n",
    "**Input 1**: Gráficos de líneas con la serie temporal para el número de casos de Hantavirus según año-mes. Presente una primera serie general para todos los datos y luego otra figura con las series desagregadas por grupo etario. Utilice la variable fecha_notificacion para construir sus series.\n",
    "\n",
    "**Input 2**: Realice mapas de Chile con el número de casos de hantavirus por región o comuna (usted decide que es mejor). Estos mapas deben ser desagregados por períodos:\n",
    "\n",
    "- Un mapa para el número de casos entre 1995 - 2004\n",
    "- Un mapa para el número de casos entre 2005 - 2014\n",
    "- Un mapa para el número de casos entre 2015 - 2022\n",
    "\n",
    "Para esto se puede apoyar de la librería `sf` y `chilemapas`.\n",
    "\n"
   ]
  }
 ],
 "metadata": {
  "kernelspec": {
   "display_name": "R",
   "language": "R",
   "name": "ir"
  },
  "language_info": {
   "codemirror_mode": "r",
   "file_extension": ".r",
   "mimetype": "text/x-r-source",
   "name": "R",
   "pygments_lexer": "r",
   "version": "4.0.5"
  },
  "papermill": {
   "default_parameters": {},
   "duration": 33.845785,
   "end_time": "2023-08-10T18:38:01.789365",
   "environment_variables": {},
   "exception": null,
   "input_path": "__notebook__.ipynb",
   "output_path": "__notebook__.ipynb",
   "parameters": {},
   "start_time": "2023-08-10T18:37:27.943580",
   "version": "2.4.0"
  }
 },
 "nbformat": 4,
 "nbformat_minor": 5
}
